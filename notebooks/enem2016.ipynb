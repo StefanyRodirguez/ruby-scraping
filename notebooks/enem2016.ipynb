{
 "cells": [
  {
   "cell_type": "code",
   "execution_count": 1,
   "metadata": {
    "collapsed": false
   },
   "outputs": [
    {
     "data": {
      "text/plain": [
       "true"
      ]
     },
     "execution_count": 1,
     "metadata": {},
     "output_type": "execute_result"
    }
   ],
   "source": [
    "require 'httparty'\n",
    "require 'nokogiri'\n",
    "require 'open-uri'\n",
    "require 'zip'"
   ]
  },
  {
   "cell_type": "code",
   "execution_count": null,
   "metadata": {
    "collapsed": false
   },
   "outputs": [],
   "source": [
    "url = 'http://portal.mec.gov.br/component/content/article?id=57941'\n",
    "page = HTTParty.get(url)"
   ]
  },
  {
   "cell_type": "code",
   "execution_count": null,
   "metadata": {
    "collapsed": false
   },
   "outputs": [],
   "source": [
    "Nokogiri::HTML(page).css(\"a\").each_with_index do |link|\n",
    "  next unless link.text == 'aqui'\n",
    "  \n",
    "  arquivo = open(link[:href])\n",
    "  File.open('enem2016.zip','wb'){ |f| f.write(arquivo.read) }\n",
    "end"
   ]
  },
  {
   "cell_type": "code",
   "execution_count": 24,
   "metadata": {
    "collapsed": false
   },
   "outputs": [
    {
     "name": "stdout",
     "output_type": "stream",
     "text": [
      "Extraindo Microdados_enem_2016/\n",
      "Extraindo Microdados_enem_2016/DADOS/\n",
      "Extraindo Microdados_enem_2016/DADOS/itens_prova_2016.csv\n",
      "Extraindo Microdados_enem_2016/DADOS/microdados_enem_2016.csv\n",
      "Extraindo Microdados_enem_2016/DADOS/Thumbs.db\n",
      "Extraindo Microdados_enem_2016/INPUTS/\n",
      "Extraindo Microdados_enem_2016/INPUTS/INPUT_ SPSS_MICRODADOS_ENEM_2016.sps\n",
      "Extraindo Microdados_enem_2016/INPUTS/INPUT_SAS_ITENS_PROVA_2016.sas\n",
      "Extraindo Microdados_enem_2016/INPUTS/INPUT_SAS_MICRODADOS_ENEM_2016.sas\n",
      "Extraindo Microdados_enem_2016/INPUTS/INPUT_SPSS_ITENS_PROVA_2016.sps\n",
      "Extraindo Microdados_enem_2016/PROVAS E GABARITOS/\n"
     ]
    }
   ],
   "source": [
    "Zip::File.open('enem2016.zip') do |zip_file|\n",
    "  zip_file.each do |entrada|\n",
    "    begin\n",
    "      puts \"Extraindo #{entrada.name}\"\n",
    "      entrada.extract()\n",
    "    rescue Encoding::UndefinedConversionError\n",
    "    end\n",
    "  end\n",
    "end\n",
    "\n",
    "nil"
   ]
  }
 ],
 "metadata": {
  "kernelspec": {
   "display_name": "Ruby 2.5.0",
   "language": "ruby",
   "name": "ruby"
  },
  "language_info": {
   "file_extension": ".rb",
   "mimetype": "application/x-ruby",
   "name": "ruby",
   "version": "2.5.0"
  }
 },
 "nbformat": 4,
 "nbformat_minor": 2
}
