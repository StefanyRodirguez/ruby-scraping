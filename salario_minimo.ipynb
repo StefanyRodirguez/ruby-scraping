{
 "cells": [
  {
   "cell_type": "markdown",
   "metadata": {},
   "source": [
    "Base: [Reajuste do salário mínimo em 2018 é o menor em 24 anos](https://g1.globo.com/economia/noticia/reajuste-do-salario-minimo-em-2018-e-o-menor-em-24-anos.ghtml)\n",
    "\n",
    "Segundo notícia publicada na globo.com:\n",
    "\n",
    "> O reajuste de 1,81% no valor do salário mínimo para o ano de 2018, de R$ 937 para R$ 954, é o menor desde o Plano Real, anunciado em 1994 e que controlou a hiperinflação na economia brasileira, aponta série histórica do Departamento Intersindical de Estatística e Estudos Socioeconômicos (Dieese)."
   ]
  },
  {
   "cell_type": "code",
   "execution_count": 1,
   "metadata": {
    "collapsed": false
   },
   "outputs": [
    {
     "data": {
      "text/plain": [
       "true"
      ]
     },
     "execution_count": 1,
     "metadata": {},
     "output_type": "execute_result"
    }
   ],
   "source": [
    "require 'httparty'\n",
    "require 'nokogiri'"
   ]
  },
  {
   "cell_type": "markdown",
   "metadata": {},
   "source": [
    "Coleta os dados do salário mínimo a partir da tabela contida na página do Departamento Intersindical de Estatística e Estudos Socioeconômicos:"
   ]
  },
  {
   "cell_type": "code",
   "execution_count": 104,
   "metadata": {
    "collapsed": false
   },
   "outputs": [],
   "source": [
    "url = 'https://www.dieese.org.br/analisecestabasica/salarioMinimo.html'\n",
    "page = HTTParty.get(url)\n",
    "parsed_page = Nokogiri::HTML(page)\n",
    "tabela = parsed_page.css('table')\n",
    "\n",
    "nil"
   ]
  },
  {
   "cell_type": "markdown",
   "metadata": {},
   "source": [
    "Extrai os salários da tabela agrupados por ano e os armazena em um dicionário:"
   ]
  },
  {
   "cell_type": "code",
   "execution_count": 90,
   "metadata": {
    "collapsed": false,
    "scrolled": true
   },
   "outputs": [
    {
     "data": {
      "text/plain": [
       "0"
      ]
     },
     "execution_count": 90,
     "metadata": {},
     "output_type": "execute_result"
    }
   ],
   "source": [
    "linhas = tabela.css('tr')\n",
    "\n",
    "ano_salarios = {}\n",
    "ano = nil\n",
    "\n",
    "linhas.each do |linha|\n",
    "  numerico = linha.text.to_i\n",
    "\n",
    "    if numerico != 0\n",
    "      ano = numerico\n",
    "      ano_salarios[numerico] = []\n",
    "    end\n",
    "      \n",
    "    if numerico == 0\n",
    "      if ano_salarios[ano] != nil\n",
    "        colunas = linha.css('td')\n",
    "        \n",
    "        minimo_nominal = colunas[1].text\n",
    "        minimo_nominal.gsub!('R$ ', '').gsub!(',', '.')\n",
    "        ano_salarios[ano] << minimo_nominal.to_f\n",
    "      end\n",
    "    end\n",
    "end"
   ]
  },
  {
   "cell_type": "markdown",
   "metadata": {},
   "source": [
    "Quais os salários registrados no ano de 2017?"
   ]
  },
  {
   "cell_type": "code",
   "execution_count": 91,
   "metadata": {
    "collapsed": false
   },
   "outputs": [
    {
     "data": {
      "text/plain": [
       "[937.0, 937.0, 937.0, 937.0, 937.0, 937.0, 937.0, 937.0, 937.0, 937.0, 937.0]"
      ]
     },
     "execution_count": 91,
     "metadata": {},
     "output_type": "execute_result"
    }
   ],
   "source": [
    "ano_salarios[2017]"
   ]
  },
  {
   "cell_type": "markdown",
   "metadata": {},
   "source": [
    "Quais os salários registrados no ano de 1998?"
   ]
  },
  {
   "cell_type": "code",
   "execution_count": 92,
   "metadata": {
    "collapsed": false
   },
   "outputs": [
    {
     "data": {
      "text/plain": [
       "[130.0, 130.0, 130.0, 130.0, 130.0, 130.0, 130.0, 130.0, 120.0, 120.0, 120.0, 120.0]"
      ]
     },
     "execution_count": 92,
     "metadata": {},
     "output_type": "execute_result"
    }
   ],
   "source": [
    "ano_salarios[1998]"
   ]
  },
  {
   "cell_type": "markdown",
   "metadata": {},
   "source": [
    "Calcula a média anual de salários por ano:"
   ]
  },
  {
   "cell_type": "code",
   "execution_count": 102,
   "metadata": {
    "collapsed": false
   },
   "outputs": [],
   "source": [
    "ano_salario = {}\n",
    "\n",
    "ano_salarios.each do |ano, salarios|\n",
    "  ano_salario[ano] = salarios.sum / salarios.length\n",
    "end\n",
    "\n",
    "nil"
   ]
  },
  {
   "cell_type": "markdown",
   "metadata": {},
   "source": [
    "Qual o salário médio em 2017?"
   ]
  },
  {
   "cell_type": "code",
   "execution_count": 96,
   "metadata": {
    "collapsed": false
   },
   "outputs": [
    {
     "name": "stdout",
     "output_type": "stream",
     "text": [
      "937.0\n"
     ]
    }
   ],
   "source": [
    "puts ano_salario[2017]"
   ]
  },
  {
   "cell_type": "markdown",
   "metadata": {},
   "source": [
    "Valor anunciado por Temer para 2018 é de R$ 954,00"
   ]
  },
  {
   "cell_type": "code",
   "execution_count": 221,
   "metadata": {
    "collapsed": false
   },
   "outputs": [
    {
     "data": {
      "text/plain": [
       "954.0"
      ]
     },
     "execution_count": 221,
     "metadata": {},
     "output_type": "execute_result"
    }
   ],
   "source": [
    "ano_salario[2018] = 954.0"
   ]
  },
  {
   "cell_type": "code",
   "execution_count": 222,
   "metadata": {
    "collapsed": false
   },
   "outputs": [
    {
     "data": {
      "text/plain": [
       "1994"
      ]
     },
     "execution_count": 222,
     "metadata": {},
     "output_type": "execute_result"
    }
   ],
   "source": [
    "menor_ano = ano_salario.keys.min"
   ]
  },
  {
   "cell_type": "code",
   "execution_count": 223,
   "metadata": {
    "collapsed": false,
    "scrolled": true
   },
   "outputs": [
    {
     "data": {
      "text/plain": [
       "{2017=>937.0, 2016=>880.0, 2015=>788.0, 2014=>724.0, 2013=>678.0, 2012=>622.0, 2011=>544.1666666666666, 2010=>510.0, 2009=>460.8333333333333, 2008=>409.1666666666667, 2007=>372.5, 2006=>337.5, 2005=>286.6666666666667, 2004=>253.33333333333334, 2003=>230.0, 2002=>195.0, 2001=>172.75, 2000=>147.25, 1999=>134.0, 1998=>126.66666666666667, 1997=>117.33333333333333, 1996=>108.0, 1995=>90.0, 1994=>68.26333333333334, 2018=>954.0}"
      ]
     },
     "execution_count": 223,
     "metadata": {},
     "output_type": "execute_result"
    }
   ],
   "source": [
    "reajuste = {}\n",
    "\n",
    "ano_salario.each do |ano, salario|\n",
    "  if ano > menor_ano\n",
    "    diferenca = salario - ano_salario[ano-1]\n",
    "    reajuste[ano] = diferenca / ano_salario[ano - 1] * 100\n",
    "  end\n",
    "end"
   ]
  },
  {
   "cell_type": "code",
   "execution_count": 224,
   "metadata": {
    "collapsed": false
   },
   "outputs": [
    {
     "data": {
      "text/plain": [
       "1.814300960512273"
      ]
     },
     "execution_count": 224,
     "metadata": {},
     "output_type": "execute_result"
    }
   ],
   "source": [
    "reajuste[2018]"
   ]
  },
  {
   "cell_type": "code",
   "execution_count": 225,
   "metadata": {
    "collapsed": false
   },
   "outputs": [
    {
     "name": "stdout",
     "output_type": "stream",
     "text": [
      "O salário mínimo de R$ 954.0 apresenta um reajuste de 1.81% em relação ao ano anterior\n"
     ]
    }
   ],
   "source": [
    "puts \"O salário mínimo de R$ #{ano_salario[2018]} apresenta\"\\\n",
    "\" um reajuste de #{reajuste[2018].round(2)}% em relação ao ano\"\\\n",
    "\" anterior\""
   ]
  },
  {
   "cell_type": "markdown",
   "metadata": {},
   "source": [
    "Ordena de forma crescente todos os reajustes armazenados:"
   ]
  },
  {
   "cell_type": "code",
   "execution_count": 196,
   "metadata": {
    "collapsed": false
   },
   "outputs": [
    {
     "data": {
      "text/plain": [
       "{2018=>1.814300960512273, 1999=>5.789473684210522, 2017=>6.4772727272727275, 2011=>6.699346405228751, 2014=>6.784660766961652, 1998=>7.954545454545463, 1997=>8.641975308641971, 2015=>8.83977900552486, 2013=>9.003215434083602, 2008=>9.8434004474273, 2000=>9.888059701492537, 2004=>10.144927536231888, 2007=>10.37037037037037, 2010=>10.669077757685356, 2016=>11.6751269035533, 2009=>12.627291242362515, 2002=>12.879884225759769, 2005=>13.157894736842108, 2012=>14.303215926493118, 2001=>17.31748726655348, 2006=>17.732558139534877, 2003=>17.94871794871795, 1996=>20.0, 1995=>31.842375115972455}"
      ]
     },
     "execution_count": 196,
     "metadata": {},
     "output_type": "execute_result"
    }
   ],
   "source": [
    "reajuste_ordenado = reajuste.sort_by { |ano, reajuste| reajuste }.to_h"
   ]
  },
  {
   "cell_type": "markdown",
   "metadata": {},
   "source": [
    "Ao listar todos os reajustes ordenados, é possível perceber que o reajuste de 2018 (1.81%) é o menor reajuste em 24 anos\n",
    "\n",
    "(ou seja, desde a anunciação do Plano Real, em 1994).\n",
    "\n",
    "O menor aumento até então corresponde ao abservado em 1999, (5,79%)."
   ]
  },
  {
   "cell_type": "code",
   "execution_count": 219,
   "metadata": {
    "collapsed": false
   },
   "outputs": [
    {
     "name": "stdout",
     "output_type": "stream",
     "text": [
      "1: 1.81% (2018)\n",
      "2: 5.79% (1999)\n",
      "3: 6.48% (2017)\n",
      "4: 6.7% (2011)\n",
      "5: 6.78% (2014)\n",
      "6: 7.95% (1998)\n",
      "7: 8.64% (1997)\n",
      "8: 8.84% (2015)\n",
      "9: 9.0% (2013)\n",
      "10: 9.84% (2008)\n",
      "11: 9.89% (2000)\n",
      "12: 10.14% (2004)\n",
      "13: 10.37% (2007)\n",
      "14: 10.67% (2010)\n",
      "15: 11.68% (2016)\n",
      "16: 12.63% (2009)\n",
      "17: 12.88% (2002)\n",
      "18: 13.16% (2005)\n",
      "19: 14.3% (2012)\n",
      "20: 17.32% (2001)\n",
      "21: 17.73% (2006)\n",
      "22: 17.95% (2003)\n",
      "23: 20.0% (1996)\n",
      "24: 31.84% (1995)\n"
     ]
    },
    {
     "data": {
      "text/plain": [
       "{2018=>1.814300960512273, 1999=>5.789473684210522, 2017=>6.4772727272727275, 2011=>6.699346405228751, 2014=>6.784660766961652, 1998=>7.954545454545463, 1997=>8.641975308641971, 2015=>8.83977900552486, 2013=>9.003215434083602, 2008=>9.8434004474273, 2000=>9.888059701492537, 2004=>10.144927536231888, 2007=>10.37037037037037, 2010=>10.669077757685356, 2016=>11.6751269035533, 2009=>12.627291242362515, 2002=>12.879884225759769, 2005=>13.157894736842108, 2012=>14.303215926493118, 2001=>17.31748726655348, 2006=>17.732558139534877, 2003=>17.94871794871795, 1996=>20.0, 1995=>31.842375115972455}"
      ]
     },
     "execution_count": 219,
     "metadata": {},
     "output_type": "execute_result"
    }
   ],
   "source": [
    "reajuste_ordenado.each_with_index do |(ano, reajuste), index|\n",
    "  posicao = index + 1\n",
    "  puts \"#{posicao}: #{reajuste.round(2)}% (#{ano})\"\n",
    "end"
   ]
  }
 ],
 "metadata": {
  "kernelspec": {
   "display_name": "Ruby 2.5.0",
   "language": "ruby",
   "name": "ruby"
  },
  "language_info": {
   "file_extension": ".rb",
   "mimetype": "application/x-ruby",
   "name": "ruby",
   "version": "2.5.0"
  }
 },
 "nbformat": 4,
 "nbformat_minor": 2
}
