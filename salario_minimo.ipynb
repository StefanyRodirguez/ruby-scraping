{
 "cells": [
  {
   "cell_type": "code",
   "execution_count": 1,
   "metadata": {
    "collapsed": false
   },
   "outputs": [
    {
     "data": {
      "text/plain": [
       "true"
      ]
     },
     "execution_count": 1,
     "metadata": {},
     "output_type": "execute_result"
    }
   ],
   "source": [
    "require 'pdf-reader'\n",
    "require 'open-uri'"
   ]
  },
  {
   "cell_type": "code",
   "execution_count": 2,
   "metadata": {
    "collapsed": false
   },
   "outputs": [],
   "source": [
    "io     = open('https://www.dieese.org.br/notatecnica/2017/notaTecsalariominimo2017.pdf')\n",
    "reader = PDF::Reader.new(io)\n",
    "nil"
   ]
  },
  {
   "cell_type": "markdown",
   "metadata": {},
   "source": [
    "Os dados desejados se encontram na página 5 do documento:"
   ]
  },
  {
   "cell_type": "code",
   "execution_count": 3,
   "metadata": {
    "collapsed": false
   },
   "outputs": [
    {
     "data": {
      "text/plain": [
       "5"
      ]
     },
     "execution_count": 3,
     "metadata": {},
     "output_type": "execute_result"
    }
   ],
   "source": [
    "num_pagina = 5"
   ]
  },
  {
   "cell_type": "markdown",
   "metadata": {},
   "source": [
    "Extrai o texto contido na página especificada:"
   ]
  },
  {
   "cell_type": "code",
   "execution_count": 6,
   "metadata": {
    "collapsed": false
   },
   "outputs": [],
   "source": [
    "indice = num_pagina - 1\n",
    "texto  = reader.pages[indice].text\n",
    "nil"
   ]
  },
  {
   "cell_type": "code",
   "execution_count": 47,
   "metadata": {
    "collapsed": false,
    "scrolled": true
   },
   "outputs": [
    {
     "data": {
      "text/plain": [
       "{2002=>200.0, 2003=>240.0, 2004=>260.0, 2005=>300.0, 2006=>350.0, 2007=>380.0, 2008=>415.0, 2009=>465.0, 2010=>510.0, 2011=>545.0, 2012=>622.0, 2013=>678.0, 2014=>724.0, 2015=>788.0, 2016=>880.0, 2017=>937.0}"
      ]
     },
     "execution_count": 47,
     "metadata": {},
     "output_type": "execute_result"
    }
   ],
   "source": [
    "ano_salario = {}\n",
    "\n",
    "texto.lines.each do |linha|\n",
    "  palavras = linha.split\n",
    "  next if palavras.empty?\n",
    "  \n",
    "  ano = palavras[2].to_i\n",
    "  \n",
    "  if ano.is_a?(Integer) && ano >= 2002\n",
    "    salario = palavras[3].to_f\n",
    "    ano_salario[ano] = salario\n",
    "  end\n",
    "end\n",
    "\n",
    "ano_salario"
   ]
  },
  {
   "cell_type": "markdown",
   "metadata": {},
   "source": [
    "Valor anunciado por Temer para 2018 é de R$ 954,00"
   ]
  },
  {
   "cell_type": "code",
   "execution_count": 58,
   "metadata": {
    "collapsed": false
   },
   "outputs": [
    {
     "data": {
      "text/plain": [
       "954.0"
      ]
     },
     "execution_count": 58,
     "metadata": {},
     "output_type": "execute_result"
    }
   ],
   "source": [
    "salario_2018 = 954.0"
   ]
  },
  {
   "cell_type": "code",
   "execution_count": 61,
   "metadata": {
    "collapsed": false
   },
   "outputs": [
    {
     "data": {
      "text/plain": [
       "1.814300960512273"
      ]
     },
     "execution_count": 61,
     "metadata": {},
     "output_type": "execute_result"
    }
   ],
   "source": [
    "diferenca = salario_2018 - ano_salario[2017]\n",
    "\n",
    "reajuste  = diferenca / ano_salario[2017] * 100"
   ]
  },
  {
   "cell_type": "code",
   "execution_count": 62,
   "metadata": {
    "collapsed": false,
    "scrolled": true
   },
   "outputs": [
    {
     "name": "stdout",
     "output_type": "stream",
     "text": [
      "O salário mínimo de R$ 954.0 apresenta um reajuste de 1.81% em relação ao ano anterior\n"
     ]
    }
   ],
   "source": [
    "puts \"O salário mínimo de R$ #{salario_2018} apresenta\"\\\n",
    "\" um reajuste de #{reajuste.round(2)}% em relação ao ano\"\\\n",
    "\" anterior\""
   ]
  }
 ],
 "metadata": {
  "kernelspec": {
   "display_name": "Ruby 2.5.0",
   "language": "ruby",
   "name": "ruby"
  },
  "language_info": {
   "file_extension": ".rb",
   "mimetype": "application/x-ruby",
   "name": "ruby",
   "version": "2.5.0"
  }
 },
 "nbformat": 4,
 "nbformat_minor": 2
}
