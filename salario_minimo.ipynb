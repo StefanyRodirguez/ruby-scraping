{
 "cells": [
  {
   "cell_type": "code",
   "execution_count": 1,
   "metadata": {
    "collapsed": false
   },
   "outputs": [
    {
     "data": {
      "text/plain": [
       "true"
      ]
     },
     "execution_count": 1,
     "metadata": {},
     "output_type": "execute_result"
    }
   ],
   "source": [
    "require 'httparty'\n",
    "require 'nokogiri'"
   ]
  },
  {
   "cell_type": "markdown",
   "metadata": {},
   "source": [
    "Coleta os dados do salário mínimo a partir da tabela contida na página do Departamento Intersindical de Estatística e Estudos Socioeconômicos:"
   ]
  },
  {
   "cell_type": "code",
   "execution_count": 104,
   "metadata": {
    "collapsed": false
   },
   "outputs": [],
   "source": [
    "url = 'https://www.dieese.org.br/analisecestabasica/salarioMinimo.html'\n",
    "page = HTTParty.get(url)\n",
    "parsed_page = Nokogiri::HTML(page)\n",
    "tabela = parsed_page.css('table')\n",
    "\n",
    "nil"
   ]
  },
  {
   "cell_type": "markdown",
   "metadata": {},
   "source": [
    "Extrai os salários da tabela agrupados por ano e os armazena em um dicionário:"
   ]
  },
  {
   "cell_type": "code",
   "execution_count": 90,
   "metadata": {
    "collapsed": false,
    "scrolled": true
   },
   "outputs": [
    {
     "data": {
      "text/plain": [
       "0"
      ]
     },
     "execution_count": 90,
     "metadata": {},
     "output_type": "execute_result"
    }
   ],
   "source": [
    "linhas = tabela.css('tr')\n",
    "\n",
    "ano_salarios = {}\n",
    "ano = nil\n",
    "\n",
    "linhas.each do |linha|\n",
    "  numerico = linha.text.to_i\n",
    "\n",
    "    if numerico != 0\n",
    "      ano = numerico\n",
    "      ano_salarios[numerico] = []\n",
    "    end\n",
    "      \n",
    "    if numerico == 0\n",
    "      if ano_salarios[ano] != nil\n",
    "        colunas = linha.css('td')\n",
    "        \n",
    "        minimo_nominal = colunas[1].text\n",
    "        minimo_nominal.gsub!('R$ ', '').gsub!(',', '.')\n",
    "        ano_salarios[ano] << minimo_nominal.to_f\n",
    "      end\n",
    "    end\n",
    "end"
   ]
  },
  {
   "cell_type": "markdown",
   "metadata": {},
   "source": [
    "Quais os salários registrados no ano de 2017?"
   ]
  },
  {
   "cell_type": "code",
   "execution_count": 91,
   "metadata": {
    "collapsed": false
   },
   "outputs": [
    {
     "data": {
      "text/plain": [
       "[937.0, 937.0, 937.0, 937.0, 937.0, 937.0, 937.0, 937.0, 937.0, 937.0, 937.0]"
      ]
     },
     "execution_count": 91,
     "metadata": {},
     "output_type": "execute_result"
    }
   ],
   "source": [
    "ano_salarios[2017]"
   ]
  },
  {
   "cell_type": "markdown",
   "metadata": {},
   "source": [
    "Quais os salários registrados no ano de 2018?"
   ]
  },
  {
   "cell_type": "code",
   "execution_count": 92,
   "metadata": {
    "collapsed": false
   },
   "outputs": [
    {
     "data": {
      "text/plain": [
       "[130.0, 130.0, 130.0, 130.0, 130.0, 130.0, 130.0, 130.0, 120.0, 120.0, 120.0, 120.0]"
      ]
     },
     "execution_count": 92,
     "metadata": {},
     "output_type": "execute_result"
    }
   ],
   "source": [
    "ano_salarios[1998]"
   ]
  },
  {
   "cell_type": "markdown",
   "metadata": {},
   "source": [
    "Calcula a média anual de salários por ano:"
   ]
  },
  {
   "cell_type": "code",
   "execution_count": 102,
   "metadata": {
    "collapsed": false
   },
   "outputs": [],
   "source": [
    "ano_salario = {}\n",
    "\n",
    "ano_salarios.each do |ano, salarios|\n",
    "  ano_salario[ano] = salarios.sum / salarios.length\n",
    "end\n",
    "\n",
    "nil"
   ]
  },
  {
   "cell_type": "markdown",
   "metadata": {},
   "source": [
    "Qual a média do salário em 2017?"
   ]
  },
  {
   "cell_type": "code",
   "execution_count": 96,
   "metadata": {
    "collapsed": false
   },
   "outputs": [
    {
     "name": "stdout",
     "output_type": "stream",
     "text": [
      "937.0\n"
     ]
    }
   ],
   "source": [
    "puts ano_salario[2017]"
   ]
  },
  {
   "cell_type": "markdown",
   "metadata": {},
   "source": [
    "Valor anunciado por Temer para 2018 é de R$ 954,00"
   ]
  },
  {
   "cell_type": "code",
   "execution_count": 97,
   "metadata": {
    "collapsed": false
   },
   "outputs": [
    {
     "data": {
      "text/plain": [
       "954.0"
      ]
     },
     "execution_count": 97,
     "metadata": {},
     "output_type": "execute_result"
    }
   ],
   "source": [
    "salario_2018 = 954.0"
   ]
  },
  {
   "cell_type": "markdown",
   "metadata": {},
   "source": [
    "Calcula o reajuste:"
   ]
  },
  {
   "cell_type": "code",
   "execution_count": 98,
   "metadata": {
    "collapsed": false
   },
   "outputs": [
    {
     "data": {
      "text/plain": [
       "1.814300960512273"
      ]
     },
     "execution_count": 98,
     "metadata": {},
     "output_type": "execute_result"
    }
   ],
   "source": [
    "diferenca = salario_2018 - ano_salario[2017]\n",
    "\n",
    "reajuste  = diferenca / ano_salario[2017] * 100"
   ]
  },
  {
   "cell_type": "code",
   "execution_count": 99,
   "metadata": {
    "collapsed": false,
    "scrolled": true
   },
   "outputs": [
    {
     "name": "stdout",
     "output_type": "stream",
     "text": [
      "O salário mínimo de R$ 954.0 apresenta um reajuste de 1.81% em relação ao ano anterior\n"
     ]
    }
   ],
   "source": [
    "puts \"O salário mínimo de R$ #{salario_2018} apresenta\"\\\n",
    "\" um reajuste de #{reajuste.round(2)}% em relação ao ano\"\\\n",
    "\" anterior\""
   ]
  }
 ],
 "metadata": {
  "kernelspec": {
   "display_name": "Ruby 2.5.0",
   "language": "ruby",
   "name": "ruby"
  },
  "language_info": {
   "file_extension": ".rb",
   "mimetype": "application/x-ruby",
   "name": "ruby",
   "version": "2.5.0"
  }
 },
 "nbformat": 4,
 "nbformat_minor": 2
}
